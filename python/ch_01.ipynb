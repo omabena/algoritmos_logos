{
 "metadata": {
  "language_info": {
   "codemirror_mode": {
    "name": "ipython",
    "version": 3
   },
   "file_extension": ".py",
   "mimetype": "text/x-python",
   "name": "python",
   "nbconvert_exporter": "python",
   "pygments_lexer": "ipython3",
   "version": "3.9.6-final"
  },
  "orig_nbformat": 2,
  "kernelspec": {
   "name": "python3",
   "display_name": "Python 3.9.6 64-bit ('venv': venv)",
   "metadata": {
    "interpreter": {
     "hash": "8984af73ac1dff3cad072c644c7591f08208261cb0378100d606a49d8116ceeb"
    }
   }
  }
 },
 "nbformat": 4,
 "nbformat_minor": 2,
 "cells": [
  {
   "cell_type": "code",
   "execution_count": 5,
   "metadata": {},
   "outputs": [
    {
     "output_type": "execute_result",
     "data": {
      "text/plain": [
       "[False, False, True]"
      ]
     },
     "metadata": {},
     "execution_count": 5
    }
   ],
   "source": [
    "string_list = [\"44\", \"117\", \"132\"]\n",
    "\n",
    "def unique(val):\n",
    "    len_set_val = len(set(list(val)))\n",
    "    len_val = len(val)\n",
    "    return len_set_val == len_val\n",
    "\n",
    "x = list(map(unique, string_list))\n",
    "x"
   ]
  },
  {
   "cell_type": "code",
   "execution_count": 8,
   "metadata": {},
   "outputs": [
    {
     "output_type": "execute_result",
     "data": {
      "text/plain": [
       "False"
      ]
     },
     "metadata": {},
     "execution_count": 8
    }
   ],
   "source": [
    "from functools import reduce\n",
    "from operator import mul\n",
    "\n",
    "def permutation(origin, permutated):\n",
    "    origin_ord = reduce(mul, list(map(ord, origin)))\n",
    "    permutated = reduce(mul, list(map(ord, permutated)))\n",
    "    return origin_ord == permutated\n",
    "\n",
    "permutation(\"121\", \"112\")\n",
    "permutation(\"122\", \"211\")"
   ]
  },
  {
   "cell_type": "code",
   "execution_count": 40,
   "metadata": {},
   "outputs": [
    {
     "output_type": "execute_result",
     "data": {
      "text/plain": [
       "'Mr%20John%20Smith'"
      ]
     },
     "metadata": {},
     "execution_count": 40
    }
   ],
   "source": [
    "import re\n",
    "\n",
    "def urlify(string):\n",
    "    url = re.sub(r'\\s+$', '', re.sub(r'^\\s+', '', string))\n",
    "    url = re.sub(r'\\s', '%20', url)\n",
    "    return url\n",
    "\n",
    "urlify(\"Mr John Smith    \")"
   ]
  },
  {
   "cell_type": "code",
   "execution_count": 73,
   "metadata": {},
   "outputs": [
    {
     "output_type": "execute_result",
     "data": {
      "text/plain": [
       "'aaabcccccaaa'"
      ]
     },
     "metadata": {},
     "execution_count": 73
    }
   ],
   "source": [
    "def compress(val):    \n",
    "    current_letter = val[0]\n",
    "    current_count = 1\n",
    "    acc = \"\"\n",
    "\n",
    "    for letter in val[1:len(val)]:\n",
    "        if letter == current_letter:\n",
    "            current_count += 1\n",
    "        else:\n",
    "            acc = acc + current_letter + str(current_count)\n",
    "            current_count = 1\n",
    "            current_letter = letter\n",
    "    return acc + current_letter + str(current_count)\n",
    "\n",
    "def decompress(val):\n",
    "    decompose_string = [val[i] * int(val[i+1]) for i in range(0, len(val), 2)]\n",
    "    return ''.join(decompose_string)\n",
    "\n",
    "compress_string = compress(\"aaabcccccaaa\")\n",
    "decompress(compress_string)\n",
    "    "
   ]
  },
  {
   "cell_type": "code",
   "execution_count": null,
   "metadata": {},
   "outputs": [],
   "source": []
  }
 ]
}